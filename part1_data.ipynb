{
 "cells": [
  {
   "cell_type": "markdown",
   "metadata": {},
   "source": [
    "# Part 1. Process NOAA weather conditions data\n",
    "\n",
    "In this part, I will process yearly weather data based on monitoring sites. The raw data named \"gsoy-latest.tar.gz\" is downloaded from NOAA Climate Data Center (https://www.ncdc.noaa.gov/cdo-web/datasets). One challenge to process the data is that there are more than 20,000 individual .csv files in the gz file, so it is unfeasible to uncompress the file locally. Instead, I directly uncompressed the file on the cloud, following the instructions from this link: https://medium.com/@carolynjjankowski/using-aws-to-untar-a-file-and-transfer-files-to-an-s3-bucket-e24384045515. I firstly created an s3 bucket named \"noaadata\" and uploaded the raw data file to the bucket. Then I set up an EC2 instance to uncompress the file and then transfered all invididual .csv files to a folder named \"all\" in the same bucket. We can see what matereials are in the folder by running the following bash command. The individual .csv data files are in the \"s3\" folder."
   ]
  },
  {
   "cell_type": "code",
   "execution_count": 1,
   "metadata": {},
   "outputs": [
    {
     "name": "stdout",
     "output_type": "stream",
     "text": [
      "                           PRE .cache/\n",
      "                           PRE .local/\n",
      "                           PRE .ssh/\n",
      "                           PRE s3/\n",
      "2020-05-22 22:06:24          0 \n",
      "2020-05-22 23:42:18        124 .bash_history\n",
      "2020-05-22 23:42:18         18 .bash_logout\n",
      "2020-05-22 23:42:18        193 .bash_profile\n",
      "2020-05-22 23:42:18        231 .bashrc\n",
      "2020-05-22 23:43:02    1869136 get-pip.py\n"
     ]
    }
   ],
   "source": [
    "# Take a look at data location\n",
    "%%bash \n",
    "aws s3 ls s3://noaadata/all/"
   ]
  },
  {
   "cell_type": "markdown",
   "metadata": {},
   "source": [
    "Then I will load all the files in the \"s3\" folder. Please note that each data file corresponds to a monitoring station and is named after the station code. I only need data for the US, so I will only load data files starting with \"US\"."
   ]
  },
  {
   "cell_type": "code",
   "execution_count": 2,
   "metadata": {},
   "outputs": [
    {
     "data": {
      "application/vnd.jupyter.widget-view+json": {
       "model_id": "f9cb17244eeb4b94a861d0e56edd43d9",
       "version_major": 2,
       "version_minor": 0
      },
      "text/plain": [
       "VBox()"
      ]
     },
     "metadata": {},
     "output_type": "display_data"
    },
    {
     "name": "stdout",
     "output_type": "stream",
     "text": [
      "Starting Spark application\n"
     ]
    },
    {
     "data": {
      "text/html": [
       "<table>\n",
       "<tr><th>ID</th><th>YARN Application ID</th><th>Kind</th><th>State</th><th>Spark UI</th><th>Driver log</th><th>Current session?</th></tr><tr><td>9</td><td>application_1590299307055_0010</td><td>pyspark</td><td>idle</td><td><a target=\"_blank\" href=\"http://ip-172-31-19-134.ec2.internal:20888/proxy/application_1590299307055_0010/\">Link</a></td><td><a target=\"_blank\" href=\"http://ip-172-31-19-134.ec2.internal:8042/node/containerlogs/container_1590299307055_0010_01_000001/livy\">Link</a></td><td>✔</td></tr></table>"
      ],
      "text/plain": [
       "<IPython.core.display.HTML object>"
      ]
     },
     "metadata": {},
     "output_type": "display_data"
    },
    {
     "data": {
      "application/vnd.jupyter.widget-view+json": {
       "model_id": "",
       "version_major": 2,
       "version_minor": 0
      },
      "text/plain": [
       "FloatProgress(value=0.0, bar_style='info', description='Progress:', layout=Layout(height='25px', width='50%'),…"
      ]
     },
     "metadata": {},
     "output_type": "display_data"
    },
    {
     "name": "stdout",
     "output_type": "stream",
     "text": [
      "SparkSession available as 'spark'.\n"
     ]
    },
    {
     "data": {
      "application/vnd.jupyter.widget-view+json": {
       "model_id": "",
       "version_major": 2,
       "version_minor": 0
      },
      "text/plain": [
       "FloatProgress(value=0.0, bar_style='info', description='Progress:', layout=Layout(height='25px', width='50%'),…"
      ]
     },
     "metadata": {},
     "output_type": "display_data"
    }
   ],
   "source": [
    "# Load data\n",
    "data = spark.read.format(\"csv\").option(\"header\", \"true\").load(\"s3://noaadata/all/s3/US*.csv\")"
   ]
  },
  {
   "cell_type": "markdown",
   "metadata": {},
   "source": [
    "Take a look at the data fields and select the ones I need, including location, elevation, temperature, and precipitation."
   ]
  },
  {
   "cell_type": "code",
   "execution_count": 3,
   "metadata": {},
   "outputs": [
    {
     "data": {
      "application/vnd.jupyter.widget-view+json": {
       "model_id": "07224b346e704e2083ba2142af26c3a0",
       "version_major": 2,
       "version_minor": 0
      },
      "text/plain": [
       "VBox()"
      ]
     },
     "metadata": {},
     "output_type": "display_data"
    },
    {
     "data": {
      "application/vnd.jupyter.widget-view+json": {
       "model_id": "",
       "version_major": 2,
       "version_minor": 0
      },
      "text/plain": [
       "FloatProgress(value=0.0, bar_style='info', description='Progress:', layout=Layout(height='25px', width='50%'),…"
      ]
     },
     "metadata": {},
     "output_type": "display_data"
    },
    {
     "name": "stdout",
     "output_type": "stream",
     "text": [
      "root\n",
      " |-- STATION: string (nullable = true)\n",
      " |-- DATE: string (nullable = true)\n",
      " |-- LATITUDE: string (nullable = true)\n",
      " |-- LONGITUDE: string (nullable = true)\n",
      " |-- ELEVATION: string (nullable = true)\n",
      " |-- NAME: string (nullable = true)\n",
      " |-- AWND: string (nullable = true)\n",
      " |-- AWND_ATTRIBUTES: string (nullable = true)\n",
      " |-- CDSD: string (nullable = true)\n",
      " |-- CDSD_ATTRIBUTES: string (nullable = true)\n",
      " |-- CLDD: string (nullable = true)\n",
      " |-- CLDD_ATTRIBUTES: string (nullable = true)\n",
      " |-- DP01: string (nullable = true)\n",
      " |-- DP01_ATTRIBUTES: string (nullable = true)\n",
      " |-- DP10: string (nullable = true)\n",
      " |-- DP10_ATTRIBUTES: string (nullable = true)\n",
      " |-- DP1X: string (nullable = true)\n",
      " |-- DP1X_ATTRIBUTES: string (nullable = true)\n",
      " |-- DSND: string (nullable = true)\n",
      " |-- DSND_ATTRIBUTES: string (nullable = true)\n",
      " |-- DSNW: string (nullable = true)\n",
      " |-- DSNW_ATTRIBUTES: string (nullable = true)\n",
      " |-- DT00: string (nullable = true)\n",
      " |-- DT00_ATTRIBUTES: string (nullable = true)\n",
      " |-- DT32: string (nullable = true)\n",
      " |-- DT32_ATTRIBUTES: string (nullable = true)\n",
      " |-- DX32: string (nullable = true)\n",
      " |-- DX32_ATTRIBUTES: string (nullable = true)\n",
      " |-- DX70: string (nullable = true)\n",
      " |-- DX70_ATTRIBUTES: string (nullable = true)\n",
      " |-- DX90: string (nullable = true)\n",
      " |-- DX90_ATTRIBUTES: string (nullable = true)\n",
      " |-- EMNT: string (nullable = true)\n",
      " |-- EMNT_ATTRIBUTES: string (nullable = true)\n",
      " |-- EMSD: string (nullable = true)\n",
      " |-- EMSD_ATTRIBUTES: string (nullable = true)\n",
      " |-- EMSN: string (nullable = true)\n",
      " |-- EMSN_ATTRIBUTES: string (nullable = true)\n",
      " |-- EMXP: string (nullable = true)\n",
      " |-- EMXP_ATTRIBUTES: string (nullable = true)\n",
      " |-- EMXT: string (nullable = true)\n",
      " |-- EMXT_ATTRIBUTES: string (nullable = true)\n",
      " |-- FZF0: string (nullable = true)\n",
      " |-- FZF0_ATTRIBUTES: string (nullable = true)\n",
      " |-- FZF1: string (nullable = true)\n",
      " |-- FZF1_ATTRIBUTES: string (nullable = true)\n",
      " |-- FZF2: string (nullable = true)\n",
      " |-- FZF2_ATTRIBUTES: string (nullable = true)\n",
      " |-- FZF3: string (nullable = true)\n",
      " |-- FZF3_ATTRIBUTES: string (nullable = true)\n",
      " |-- FZF4: string (nullable = true)\n",
      " |-- FZF4_ATTRIBUTES: string (nullable = true)\n",
      " |-- FZF5: string (nullable = true)\n",
      " |-- FZF5_ATTRIBUTES: string (nullable = true)\n",
      " |-- FZF6: string (nullable = true)\n",
      " |-- FZF6_ATTRIBUTES: string (nullable = true)\n",
      " |-- FZF7: string (nullable = true)\n",
      " |-- FZF7_ATTRIBUTES: string (nullable = true)\n",
      " |-- FZF8: string (nullable = true)\n",
      " |-- FZF8_ATTRIBUTES: string (nullable = true)\n",
      " |-- FZF9: string (nullable = true)\n",
      " |-- FZF9_ATTRIBUTES: string (nullable = true)\n",
      " |-- HDSD: string (nullable = true)\n",
      " |-- HDSD_ATTRIBUTES: string (nullable = true)\n",
      " |-- HTDD: string (nullable = true)\n",
      " |-- HTDD_ATTRIBUTES: string (nullable = true)\n",
      " |-- PRCP: string (nullable = true)\n",
      " |-- PRCP_ATTRIBUTES: string (nullable = true)\n",
      " |-- PSUN: string (nullable = true)\n",
      " |-- PSUN_ATTRIBUTES: string (nullable = true)\n",
      " |-- SNOW: string (nullable = true)\n",
      " |-- SNOW_ATTRIBUTES: string (nullable = true)\n",
      " |-- TAVG: string (nullable = true)\n",
      " |-- TAVG_ATTRIBUTES: string (nullable = true)\n",
      " |-- TMAX: string (nullable = true)\n",
      " |-- TMAX_ATTRIBUTES: string (nullable = true)\n",
      " |-- TMIN: string (nullable = true)\n",
      " |-- TMIN_ATTRIBUTES: string (nullable = true)\n",
      " |-- TSUN: string (nullable = true)\n",
      " |-- TSUN_ATTRIBUTES: string (nullable = true)\n",
      " |-- WDF1: string (nullable = true)\n",
      " |-- WDF1_ATTRIBUTES: string (nullable = true)\n",
      " |-- WDF2: string (nullable = true)\n",
      " |-- WDF2_ATTRIBUTES: string (nullable = true)\n",
      " |-- WDF5: string (nullable = true)\n",
      " |-- WDF5_ATTRIBUTES: string (nullable = true)\n",
      " |-- WDFG: string (nullable = true)\n",
      " |-- WDFG_ATTRIBUTES: string (nullable = true)\n",
      " |-- WDFM: string (nullable = true)\n",
      " |-- WDFM_ATTRIBUTES: string (nullable = true)\n",
      " |-- WSF1: string (nullable = true)\n",
      " |-- WSF1_ATTRIBUTES: string (nullable = true)\n",
      " |-- WSF2: string (nullable = true)\n",
      " |-- WSF2_ATTRIBUTES: string (nullable = true)\n",
      " |-- WSF5: string (nullable = true)\n",
      " |-- WSF5_ATTRIBUTES: string (nullable = true)\n",
      " |-- WSFG: string (nullable = true)\n",
      " |-- WSFG_ATTRIBUTES: string (nullable = true)\n",
      " |-- WSFM: string (nullable = true)\n",
      " |-- WSFM_ATTRIBUTES: string (nullable = true)\n",
      "\n",
      "+-----------+----+--------+---------+---------+--------------------+----+---------------+-----+---------------+-----+---------------+----+---------------+----+---------------+----+---------------+----+---------------+----+---------------+----+---------------+----+---------------+----+---------------+----+---------------+----+---------------+-----+---------------+----+---------------+----+---------------+-----+---------------+----+---------------+----+---------------+----+---------------+-----+---------------+-----+---------------+-----+---------------+----+---------------+----+---------------+-----+---------------+-----+---------------+-----+---------------+------+---------------+------+---------------+------+---------------+----+---------------+----+---------------+-----+---------------+-----+---------------+----+---------------+----+---------------+----+---------------+----+---------------+----+---------------+----+---------------+----+---------------+----+---------------+----+---------------+----+---------------+----+---------------+----+---------------+\n",
      "|    STATION|DATE|LATITUDE|LONGITUDE|ELEVATION|                NAME|AWND|AWND_ATTRIBUTES| CDSD|CDSD_ATTRIBUTES| CLDD|CLDD_ATTRIBUTES|DP01|DP01_ATTRIBUTES|DP10|DP10_ATTRIBUTES|DP1X|DP1X_ATTRIBUTES|DSND|DSND_ATTRIBUTES|DSNW|DSNW_ATTRIBUTES|DT00|DT00_ATTRIBUTES|DT32|DT32_ATTRIBUTES|DX32|DX32_ATTRIBUTES|DX70|DX70_ATTRIBUTES|DX90|DX90_ATTRIBUTES| EMNT|EMNT_ATTRIBUTES|EMSD|EMSD_ATTRIBUTES|EMSN|EMSN_ATTRIBUTES| EMXP|EMXP_ATTRIBUTES|EMXT|EMXT_ATTRIBUTES|FZF0|FZF0_ATTRIBUTES|FZF1|FZF1_ATTRIBUTES| FZF2|FZF2_ATTRIBUTES| FZF3|FZF3_ATTRIBUTES| FZF4|FZF4_ATTRIBUTES|FZF5|FZF5_ATTRIBUTES|FZF6|FZF6_ATTRIBUTES| FZF7|FZF7_ATTRIBUTES| FZF8|FZF8_ATTRIBUTES| FZF9|FZF9_ATTRIBUTES|  HDSD|HDSD_ATTRIBUTES|  HTDD|HTDD_ATTRIBUTES|  PRCP|PRCP_ATTRIBUTES|PSUN|PSUN_ATTRIBUTES|SNOW|SNOW_ATTRIBUTES| TAVG|TAVG_ATTRIBUTES| TMAX|TMAX_ATTRIBUTES|TMIN|TMIN_ATTRIBUTES|TSUN|TSUN_ATTRIBUTES|WDF1|WDF1_ATTRIBUTES|WDF2|WDF2_ATTRIBUTES|WDF5|WDF5_ATTRIBUTES|WDFG|WDFG_ATTRIBUTES|WDFM|WDFM_ATTRIBUTES|WSF1|WSF1_ATTRIBUTES|WSF2|WSF2_ATTRIBUTES|WSF5|WSF5_ATTRIBUTES|WSFG|WSFG_ATTRIBUTES|WSFM|WSFM_ATTRIBUTES|\n",
      "+-----------+----+--------+---------+---------+--------------------+----+---------------+-----+---------------+-----+---------------+----+---------------+----+---------------+----+---------------+----+---------------+----+---------------+----+---------------+----+---------------+----+---------------+----+---------------+----+---------------+-----+---------------+----+---------------+----+---------------+-----+---------------+----+---------------+----+---------------+----+---------------+-----+---------------+-----+---------------+-----+---------------+----+---------------+----+---------------+-----+---------------+-----+---------------+-----+---------------+------+---------------+------+---------------+------+---------------+----+---------------+----+---------------+-----+---------------+-----+---------------+----+---------------+----+---------------+----+---------------+----+---------------+----+---------------+----+---------------+----+---------------+----+---------------+----+---------------+----+---------------+----+---------------+----+---------------+\n",
      "|USW00094728|1869|40.77898|-73.96925|     42.7|NY CITY CENTRAL P...|null|           null| null|           null| null|           null| 120|              Z|  73|              Z|  11|              Z|null|           null|   6|              Z|null|           null|null|           null|null|           null|null|           null|null|           null| null|           null|null|           null| 229|       ,Z,0101,| 66.0|       ,Z,0215,|null|           null|null|           null|null|           null| null|           null| null|           null| null|           null|null|           null|null|           null| null|           null| null|           null| null|           null|  null|           null|  null|           null|1149.9|             ,Z|null|           null| 783|             ,Z| null|           null| null|           null|null|           null|null|           null|null|           null|null|           null|null|           null|null|           null|null|           null|null|           null|null|           null|null|           null|null|           null|null|           null|\n",
      "|USW00094728|1870|40.77898|-73.96925|     42.7|NY CITY CENTRAL P...|null|           null|604.9|           null|604.9|              Z| 113|              Z|  71|              Z|  11|              Z|null|           null|   6|              Z|   0|              Z|  89|              Z|  26|              Z| 138|              Z|  13|              Z|-12.2|       Z,1230,+|null|           null| 203|       ,Z,0208,| 48.5|       ,Z,1012,|34.4|       Z,0628,+|-1.1|         Z,1116|-2.2|         Z,1211| -4.4|         Z,1216| -7.2|         Z,1221| -9.4|         Z,1224|-2.2|         Z,0326|-2.2|         Z,0326| -7.2|         Z,0317| -7.2|         Z,0317|-10.6|         Z,0225|3078.5|           null|3078.5|              Z| 997.3|             ,Z|null|           null| 572|             ,Z|12.02|              Z|15.70|              Z|8.33|              Z|null|           null|null|           null|null|           null|null|           null|null|           null|null|           null|null|           null|null|           null|null|           null|null|           null|null|           null|\n",
      "|USW00094728|1871|40.77898|-73.96925|     42.7|NY CITY CENTRAL P...|null|           null|425.6|           null|425.6|              Z| 137|              Z|  97|              Z|  14|              Z|null|           null|   7|              Z|   3|              Z|  95|              Z|  34|              Z| 134|              Z|   4|              Z|-18.9|        Z,1221,|null|           null| 229|       ,Z,0127,| 68.6|       ,Z,1006,|33.3|        Z,0530,|-0.6|         Z,1021|-6.1|         Z,1127| -6.1|         Z,1127| -8.9|         Z,1128| -8.9|         Z,1128|-0.6|         Z,0329|-2.8|         Z,0228| -9.4|         Z,0223| -9.4|         Z,0223| -9.4|         Z,0223|2879.4|           null|2879.4|              Z|1305.6|             ,Z|null|           null| 873|             ,Z|10.71|              Z|14.90|              Z|6.52|              Z|null|           null|null|           null|null|           null|null|           null|null|           null|null|           null|null|           null|null|           null|null|           null|null|           null|null|           null|\n",
      "|USW00094728|1872|40.77898|-73.96925|     42.7|NY CITY CENTRAL P...|null|           null|636.0|           null|636.0|              Z| 118|              Z|  76|              Z|  14|              Z|null|           null|  11|              Z|   0|              Z| 118|              Z|  37|              Z| 132|              Z|  21|              Z|-16.1|        Z,0305,|null|           null| 457|       ,Z,1226,| 73.9|       ,Z,0726,|35.6|        Z,0702,|-1.1|         Z,1116|-4.4|         Z,1117| -4.4|         Z,1117| -9.4|         Z,1129| -9.4|         Z,1129|-1.7|         Z,0423|-2.8|         Z,0325| -8.3|         Z,0322| -8.3|         Z,0322|-10.0|         Z,0321|3427.4|           null|3427.4|              Z|1117.9|             ,Z|null|           null| 972|             ,Z|10.74|              Z|14.93|              Z|6.54|              Z|null|           null|null|           null|null|           null|null|           null|null|           null|null|           null|null|           null|null|           null|null|           null|null|           null|null|           null|\n",
      "|USW00094728|1873|40.77898|-73.96925|     42.7|NY CITY CENTRAL P...|null|           null|474.0|           null|474.0|              Z| 137|              Z|  79|              Z|  10|              Z|null|           null|  12|              Z|   3|              Z| 111|              Z|  34|              Z| 123|              Z|  10|              Z|-18.3|       Z,0224,+|null|           null| 152|       ,Z,0127,|121.9|       ,Z,0820,|34.4|        Z,0725,|-1.7|         Z,1110|-2.2|         Z,1111| -5.0|         Z,1114| -7.8|         Z,1201| null|           null|-2.2|         Z,0328|-2.2|         Z,0328| -5.0|         Z,0327|-10.6|         Z,0306|-10.6|         Z,0306|3454.2|           null|3454.2|              Z|1219.6|             ,Z|null|           null|1048|             ,Z|10.43|              Z|14.48|              Z|6.39|              Z|null|           null|null|           null|null|           null|null|           null|null|           null|null|           null|null|           null|null|           null|null|           null|null|           null|null|           null|\n",
      "|USW00094728|1874|40.77898|-73.96925|     42.7|NY CITY CENTRAL P...|null|           null|430.7|           null|430.7|              Z| 115|              Z|  76|              Z|  11|              Z|null|           null|   5|              Z|   0|              Z| 109|              Z|  25|              Z| 117|              Z|  11|              Z|-16.1|        Z,0202,|null|           null| 254|       ,Z,1220,| 83.3|       ,Z,0917,|36.7|        Z,0629,| 0.0|         Z,1112|-3.3|         Z,1113| -4.4|         Z,1114| -8.9|         Z,1214| -8.9|         Z,1214| 0.0|         Z,0430|-5.6|         Z,0413| -5.6|         Z,0413| -6.7|         Z,0405| -8.9|         Z,0324|3244.6|           null|3244.6|              Z|1164.6|             ,Z|null|           null| 929|             ,Z|10.69|              Z|14.94|              Z|6.44|              Z|null|           null|null|           null|null|           null|null|           null|null|           null|null|           null|null|           null|null|           null|null|           null|null|           null|null|           null|\n",
      "|USW00094728|1875|40.77898|-73.96925|     42.7|NY CITY CENTRAL P...|null|           null|471.9|           null|471.9|              Z| 129|              Z|  88|              Z|   7|              Z|null|           null|  14|              Z|   3|              Z| 115|              Z|  47|              Z| 125|              Z|   4|              Z|-19.4|        Z,0110,|null|           null| 221|       ,Z,0413,| 66.8|       ,Z,0812,|33.9|        Z,0625,|-0.6|         Z,1102|-2.2|         Z,1103|-10.0|         Z,1129|-10.0|         Z,1129|-10.0|         Z,1129|-2.2|         Z,0422|-2.2|         Z,0422| -5.6|         Z,0419|-10.6|         Z,0323|-10.6|         Z,0323|3469.6|           null|3469.6|              Z|1033.5|             ,Z|null|           null|1203|             ,Z| 9.66|              Z|13.56|              Z|5.75|              Z|null|           null|null|           null|null|           null|null|           null|null|           null|null|           null|null|           null|null|           null|null|           null|null|           null|null|           null|\n",
      "|USW00094728|1876|40.77898|-73.96925|     42.7|NY CITY CENTRAL P...|null|           null|622.5|           null|622.5|              0| 121|              0|  72|              0|  11|              0|null|           null|  11|              Z|   0|              0|  99|              0|  38|              0| 118|              0|  18|              0|-16.1|        0,1210,|null|           null| 279|       ,Z,0204,|108.0|       ,0,0325,|36.7|        0,0709,| 0.0|         0,1015|-7.2|         0,1130| -7.2|         0,1130| -7.2|         0,1130|-10.0|         0,1201|-0.6|         0,0410|-2.2|         0,0323| -9.4|         0,0320| -9.4|         0,0320| -9.4|         0,0320|3219.7|           null|3219.7|              0|1061.5|             ,0|null|           null| 779|             ,Z|11.09|              0|14.83|              0|7.34|              0|null|           null|null|           null|null|           null|null|           null|null|           null|null|           null|null|           null|null|           null|null|           null|null|           null|null|           null|\n",
      "|USW00094728|1877|40.77898|-73.96925|     42.7|NY CITY CENTRAL P...|null|           null|547.1|           null|547.1|              0| 116|              0|  68|              0|   5|              0|null|           null|   8|              Z|   0|              0|  87|              0|  25|              0| 135|              0|   2|              0|-12.2|        0,0319,|null|           null| 208|       ,Z,0102,|102.9|       ,0,1004,|33.3|        0,0726,| 0.0|         0,1107|-3.9|         0,1120| -4.4|         0,1121| -6.7|         0,1202| null|           null| 0.0|         0,0408|-2.2|         0,0329|-10.6|         0,0320|-10.6|         0,0320|-10.6|         0,0320|3307.2|           null|3307.2|              0|1021.6|             ,0|null|           null| 697|             ,Z|11.55|              0|15.32|              0|7.78|              0|null|           null|null|           null|null|           null|null|           null|null|           null|null|           null|null|           null|null|           null|null|           null|null|           null|null|           null|\n",
      "|USW00094728|1878|40.77898|-73.96925|     42.7|NY CITY CENTRAL P...|null|           null|562.5|           null|562.5|              0| 116|              0|  71|              0|  14|              0|null|           null|   5|              Z|   0|              0|  74|              0|  29|              0| 130|              0|  11|              0|-13.9|       0,0203,+|null|           null| 127|       ,Z,0131,| 84.1|       ,0,0806,|34.4|        0,0718,|-1.7|         0,1105|-3.3|         0,1216| -4.4|         0,1219| -7.2|         0,1223|-10.0|         0,1224|-2.2|         0,0326|-2.2|         0,0326|-10.6|         0,0325|-10.6|         0,0325|-10.6|         0,0325|2805.7|           null|2805.7|              0|1236.7|             ,0|null|           null| 349|             ,Z|12.01|              0|15.68|              0|8.33|              0|null|           null|null|           null|null|           null|null|           null|null|           null|null|           null|null|           null|null|           null|null|           null|null|           null|null|           null|\n",
      "+-----------+----+--------+---------+---------+--------------------+----+---------------+-----+---------------+-----+---------------+----+---------------+----+---------------+----+---------------+----+---------------+----+---------------+----+---------------+----+---------------+----+---------------+----+---------------+----+---------------+-----+---------------+----+---------------+----+---------------+-----+---------------+----+---------------+----+---------------+----+---------------+-----+---------------+-----+---------------+-----+---------------+----+---------------+----+---------------+-----+---------------+-----+---------------+-----+---------------+------+---------------+------+---------------+------+---------------+----+---------------+----+---------------+-----+---------------+-----+---------------+----+---------------+----+---------------+----+---------------+----+---------------+----+---------------+----+---------------+----+---------------+----+---------------+----+---------------+----+---------------+----+---------------+----+---------------+\n",
      "only showing top 10 rows"
     ]
    }
   ],
   "source": [
    "data.printSchema()\n",
    "data.show(10)"
   ]
  },
  {
   "cell_type": "code",
   "execution_count": 4,
   "metadata": {},
   "outputs": [
    {
     "data": {
      "application/vnd.jupyter.widget-view+json": {
       "model_id": "ea6e94099ca3437caf063d835076d19d",
       "version_major": 2,
       "version_minor": 0
      },
      "text/plain": [
       "VBox()"
      ]
     },
     "metadata": {},
     "output_type": "display_data"
    },
    {
     "data": {
      "application/vnd.jupyter.widget-view+json": {
       "model_id": "",
       "version_major": 2,
       "version_minor": 0
      },
      "text/plain": [
       "FloatProgress(value=0.0, bar_style='info', description='Progress:', layout=Layout(height='25px', width='50%'),…"
      ]
     },
     "metadata": {},
     "output_type": "display_data"
    },
    {
     "name": "stdout",
     "output_type": "stream",
     "text": [
      "+-----------+----+--------+---------+---------+------+-----+----+-----+\n",
      "|    STATION|DATE|LATITUDE|LONGITUDE|ELEVATION|  PRCP| TAVG|TMIN| TMAX|\n",
      "+-----------+----+--------+---------+---------+------+-----+----+-----+\n",
      "|USW00094728|1869|40.77898|-73.96925|     42.7|1149.9| null|null| null|\n",
      "|USW00094728|1870|40.77898|-73.96925|     42.7| 997.3|12.02|8.33|15.70|\n",
      "|USW00094728|1871|40.77898|-73.96925|     42.7|1305.6|10.71|6.52|14.90|\n",
      "|USW00094728|1872|40.77898|-73.96925|     42.7|1117.9|10.74|6.54|14.93|\n",
      "|USW00094728|1873|40.77898|-73.96925|     42.7|1219.6|10.43|6.39|14.48|\n",
      "|USW00094728|1874|40.77898|-73.96925|     42.7|1164.6|10.69|6.44|14.94|\n",
      "|USW00094728|1875|40.77898|-73.96925|     42.7|1033.5| 9.66|5.75|13.56|\n",
      "|USW00094728|1876|40.77898|-73.96925|     42.7|1061.5|11.09|7.34|14.83|\n",
      "|USW00094728|1877|40.77898|-73.96925|     42.7|1021.6|11.55|7.78|15.32|\n",
      "|USW00094728|1878|40.77898|-73.96925|     42.7|1236.7|12.01|8.33|15.68|\n",
      "|USW00094728|1879|40.77898|-73.96925|     42.7| 991.9|11.19|7.18|15.21|\n",
      "|USW00094728|1880|40.77898|-73.96925|     42.7| 931.2|11.62|7.55|15.68|\n",
      "|USW00094728|1881|40.77898|-73.96925|     42.7| 921.7|11.23|7.27|15.20|\n",
      "|USW00094728|1882|40.77898|-73.96925|     42.7|1151.2|10.95|7.29|14.61|\n",
      "|USW00094728|1883|40.77898|-73.96925|     42.7| 909.2|10.09|6.24|13.94|\n",
      "|USW00094728|1884|40.77898|-73.96925|     42.7|1327.5|11.24|7.55|14.94|\n",
      "|USW00094728|1885|40.77898|-73.96925|     42.7| 899.6|10.31|6.37|14.25|\n",
      "|USW00094728|1886|40.77898|-73.96925|     42.7|1000.7|10.70|6.58|14.82|\n",
      "|USW00094728|1887|40.77898|-73.96925|     42.7|1118.2|10.52|6.43|14.61|\n",
      "|USW00094728|1888|40.77898|-73.96925|     42.7|1354.7| 9.69|5.70|13.67|\n",
      "+-----------+----+--------+---------+---------+------+-----+----+-----+\n",
      "only showing top 20 rows"
     ]
    }
   ],
   "source": [
    "data[['STATION','DATE','LATITUDE','LONGITUDE','ELEVATION','PRCP','TAVG','TMIN','TMAX']].show()"
   ]
  },
  {
   "cell_type": "code",
   "execution_count": 5,
   "metadata": {},
   "outputs": [
    {
     "data": {
      "application/vnd.jupyter.widget-view+json": {
       "model_id": "55a5005453414c4da9ba48b7235caf12",
       "version_major": 2,
       "version_minor": 0
      },
      "text/plain": [
       "VBox()"
      ]
     },
     "metadata": {},
     "output_type": "display_data"
    },
    {
     "data": {
      "application/vnd.jupyter.widget-view+json": {
       "model_id": "",
       "version_major": 2,
       "version_minor": 0
      },
      "text/plain": [
       "FloatProgress(value=0.0, bar_style='info', description='Progress:', layout=Layout(height='25px', width='50%'),…"
      ]
     },
     "metadata": {},
     "output_type": "display_data"
    },
    {
     "name": "stdout",
     "output_type": "stream",
     "text": [
      "+-----------+----+--------+---------+---------+------+-----+-----+-----+\n",
      "|    STATION|DATE|LATITUDE|LONGITUDE|ELEVATION|  PRCP| TAVG| TMIN| TMAX|\n",
      "+-----------+----+--------+---------+---------+------+-----+-----+-----+\n",
      "|USW00094728|2003|40.77898|-73.96925|     42.7|1484.7|11.88| 8.14|15.63|\n",
      "|USW00094728|2004|40.77898|-73.96925|     42.7|1319.2|12.49| 8.62|16.37|\n",
      "|USW00094728|2005|40.77898|-73.96925|     42.7|1422.1|13.18| 9.18|17.17|\n",
      "|USW00094728|2006|40.77898|-73.96925|     42.7|1521.5|13.77| 9.85|17.70|\n",
      "|USW00094728|2007|40.77898|-73.96925|     42.7|1567.9|12.78| 8.75|16.82|\n",
      "|USW00094728|2008|40.77898|-73.96925|     42.7|1362.4|12.97| 8.80|17.13|\n",
      "|USW00094728|2009|40.77898|-73.96925|     42.7|1362.4|12.23| 8.39|16.07|\n",
      "|USW00094728|2010|40.77898|-73.96925|     42.7|1254.7|13.72| 9.74|17.69|\n",
      "|USW00094728|2011|40.77898|-73.96925|     42.7|1850.3|13.56| 9.55|17.58|\n",
      "|USW00094728|2012|40.77898|-73.96925|     42.7| 979.0|14.06|10.16|17.96|\n",
      "+-----------+----+--------+---------+---------+------+-----+-----+-----+\n",
      "only showing top 10 rows"
     ]
    }
   ],
   "source": [
    "# Select variables and limit data to 2003-2014\n",
    "data_select = data[['STATION','DATE','LATITUDE','LONGITUDE','ELEVATION','PRCP','TAVG','TMIN','TMAX']].filter('DATE>=2003').filter('DATE<=2014')\n",
    "data_select.show(10)"
   ]
  },
  {
   "cell_type": "markdown",
   "metadata": {},
   "source": [
    "As I will need to merge the selected weather data with some other data, I will send these processed weather data to another folder on my s3 bucket. Here I tried two different ways: (1) I used the coalesce option to write everything into one file. However this approach is very time-consuming. I believe that only one core can be used in this approach, so it is not taking advantage of the parallel computing power of PySpark. Also, if the data is extremely large, this approach may cause out of memory errors, so in the future I will always use the second approach. (2) Let PySpark to use partitions to write the files in the folder. This will end up multiple .csv files. Then I used bash command to combine the files into one. This approach needs an additional step of convertion, but it is much faster than the previous one."
   ]
  },
  {
   "cell_type": "code",
   "execution_count": null,
   "metadata": {},
   "outputs": [
    {
     "data": {
      "application/vnd.jupyter.widget-view+json": {
       "model_id": "50c3542f3c994a2caa1702adc5b1e661",
       "version_major": 2,
       "version_minor": 0
      },
      "text/plain": [
       "VBox()"
      ]
     },
     "metadata": {},
     "output_type": "display_data"
    },
    {
     "data": {
      "application/vnd.jupyter.widget-view+json": {
       "model_id": "",
       "version_major": 2,
       "version_minor": 0
      },
      "text/plain": [
       "FloatProgress(value=0.0, bar_style='info', description='Progress:', layout=Layout(height='25px', width='50%'),…"
      ]
     },
     "metadata": {},
     "output_type": "display_data"
    }
   ],
   "source": [
    "# (1) Save data as one .csv file on s3\n",
    "data_select.coalesce(1).write.save(\"s3://noaadata/us_weather\", format='csv', header=True)\n",
    "\n",
    "# (2) Alternative: convert parts into one csv file\n",
    "# data_select.write.save(\"s3://noaadata/us\", format='csv', header=True)\n",
    "# %%bash \n",
    "# aws s3 sync s3://noaadata/us /Users/artemisyang/Dropbox/project\n",
    "# cat /Users/artemisyang/Dropbox/project/part-* > /Users/artemisyang/Dropbox/us_weather.csv"
   ]
  },
  {
   "cell_type": "markdown",
   "metadata": {},
   "source": [
    "Next I will explore more about the data quality. After deleting the rows with missing values, there are only 5744 records left. Then I calculated the total number of weather stations, which is only 717. This is far less than the number of facilities in my emissions dataset. As there are too many missing values, the data quality is not good enough for my research purpose. However, after some consultation with my advisor, I was able to find a better data source. For the next step, I will use another notebook to explore the other weather data source and conduct the main machine learning analysis. "
   ]
  },
  {
   "cell_type": "code",
   "execution_count": 1,
   "metadata": {},
   "outputs": [
    {
     "data": {
      "application/vnd.jupyter.widget-view+json": {
       "model_id": "4363dfd00c954595ae7868177d981edd",
       "version_major": 2,
       "version_minor": 0
      },
      "text/plain": [
       "VBox()"
      ]
     },
     "metadata": {},
     "output_type": "display_data"
    },
    {
     "name": "stdout",
     "output_type": "stream",
     "text": [
      "Starting Spark application\n"
     ]
    },
    {
     "data": {
      "text/html": [
       "<table>\n",
       "<tr><th>ID</th><th>YARN Application ID</th><th>Kind</th><th>State</th><th>Spark UI</th><th>Driver log</th><th>Current session?</th></tr><tr><td>1</td><td>application_1591568792608_0002</td><td>pyspark</td><td>idle</td><td><a target=\"_blank\" href=\"http://ip-172-31-32-128.ec2.internal:20888/proxy/application_1591568792608_0002/\">Link</a></td><td><a target=\"_blank\" href=\"http://ip-172-31-39-156.ec2.internal:8042/node/containerlogs/container_1591568792608_0002_01_000001/livy\">Link</a></td><td>✔</td></tr></table>"
      ],
      "text/plain": [
       "<IPython.core.display.HTML object>"
      ]
     },
     "metadata": {},
     "output_type": "display_data"
    },
    {
     "data": {
      "application/vnd.jupyter.widget-view+json": {
       "model_id": "",
       "version_major": 2,
       "version_minor": 0
      },
      "text/plain": [
       "FloatProgress(value=0.0, bar_style='info', description='Progress:', layout=Layout(height='25px', width='50%'),…"
      ]
     },
     "metadata": {},
     "output_type": "display_data"
    },
    {
     "name": "stdout",
     "output_type": "stream",
     "text": [
      "SparkSession available as 'spark'.\n"
     ]
    },
    {
     "data": {
      "application/vnd.jupyter.widget-view+json": {
       "model_id": "",
       "version_major": 2,
       "version_minor": 0
      },
      "text/plain": [
       "FloatProgress(value=0.0, bar_style='info', description='Progress:', layout=Layout(height='25px', width='50%'),…"
      ]
     },
     "metadata": {},
     "output_type": "display_data"
    },
    {
     "name": "stdout",
     "output_type": "stream",
     "text": [
      "Total Rows: 129729\n",
      "Total Rows: 5744\n",
      "root\n",
      " |-- STATION: string (nullable = true)\n",
      " |-- DATE: string (nullable = true)\n",
      " |-- LATITUDE: string (nullable = true)\n",
      " |-- LONGITUDE: string (nullable = true)\n",
      " |-- ELEVATION: string (nullable = true)\n",
      " |-- PRCP: string (nullable = true)\n",
      " |-- TAVG: string (nullable = true)\n",
      " |-- TMIN: string (nullable = true)\n",
      " |-- TMAX: string (nullable = true)\n",
      "\n",
      "+-----------+----+--------+---------+---------+------+-----+----+-----+\n",
      "|    STATION|DATE|LATITUDE|LONGITUDE|ELEVATION|  PRCP| TAVG|TMIN| TMAX|\n",
      "+-----------+----+--------+---------+---------+------+-----+----+-----+\n",
      "|USW00094728|2003|40.77898|-73.96925|     42.7|1484.7|11.88|8.14|15.63|\n",
      "|USW00094728|2004|40.77898|-73.96925|     42.7|1319.2|12.49|8.62|16.37|\n",
      "|USW00094728|2005|40.77898|-73.96925|     42.7|1422.1|13.18|9.18|17.17|\n",
      "|USW00094728|2006|40.77898|-73.96925|     42.7|1521.5|13.77|9.85| 17.7|\n",
      "|USW00094728|2007|40.77898|-73.96925|     42.7|1567.9|12.78|8.75|16.82|\n",
      "+-----------+----+--------+---------+---------+------+-----+----+-----+\n",
      "only showing top 5 rows\n",
      "\n",
      "+-----+\n",
      "|count|\n",
      "+-----+\n",
      "|  717|\n",
      "+-----+"
     ]
    }
   ],
   "source": [
    "# Investigate\n",
    "data = spark.read.format(\"csv\").option(\"header\", \"true\").load(\"s3://noaadata/us_weather.csv\")\n",
    "print('Total Rows: %d' % data.count())\n",
    "data = data.dropna()\n",
    "print('Total Rows: %d' % data.count())\n",
    "data.printSchema()\n",
    "data.show(5)\n",
    "from pyspark.sql.functions import col, countDistinct\n",
    "data.agg(countDistinct(col(\"STATION\")).alias(\"count\")).show()"
   ]
  }
 ],
 "metadata": {
  "kernelspec": {
   "display_name": "PySpark",
   "language": "",
   "name": "pysparkkernel"
  },
  "language_info": {
   "codemirror_mode": {
    "name": "python",
    "version": 3
   },
   "mimetype": "text/x-python",
   "name": "pyspark",
   "pygments_lexer": "python3"
  }
 },
 "nbformat": 4,
 "nbformat_minor": 4
}
