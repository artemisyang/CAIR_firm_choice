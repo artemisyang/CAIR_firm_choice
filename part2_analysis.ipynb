{
 "cells": [
  {
   "cell_type": "markdown",
   "metadata": {},
   "source": [
    "# Part 2. Analysis using machine learning techniques\n",
    "\n",
    "## 1. Prepare data\n",
    "\n",
    "Firstly, I load the main dataset, which I have cleaned before for my master's thesis research. Please note that \"facility\" simply means firm."
   ]
  },
  {
   "cell_type": "code",
   "execution_count": 1,
   "metadata": {},
   "outputs": [
    {
     "data": {
      "application/vnd.jupyter.widget-view+json": {
       "model_id": "2dd581d7ffec49a29717aa77d8b7a856",
       "version_major": 2,
       "version_minor": 0
      },
      "text/plain": [
       "VBox()"
      ]
     },
     "metadata": {},
     "output_type": "display_data"
    },
    {
     "name": "stdout",
     "output_type": "stream",
     "text": [
      "Starting Spark application\n"
     ]
    },
    {
     "data": {
      "text/html": [
       "<table>\n",
       "<tr><th>ID</th><th>YARN Application ID</th><th>Kind</th><th>State</th><th>Spark UI</th><th>Driver log</th><th>Current session?</th></tr><tr><td>3</td><td>application_1591669218971_0004</td><td>pyspark</td><td>idle</td><td><a target=\"_blank\" href=\"http://ip-172-31-89-96.ec2.internal:20888/proxy/application_1591669218971_0004/\">Link</a></td><td><a target=\"_blank\" href=\"http://ip-172-31-91-247.ec2.internal:8042/node/containerlogs/container_1591669218971_0004_01_000002/livy\">Link</a></td><td>✔</td></tr></table>"
      ],
      "text/plain": [
       "<IPython.core.display.HTML object>"
      ]
     },
     "metadata": {},
     "output_type": "display_data"
    },
    {
     "data": {
      "application/vnd.jupyter.widget-view+json": {
       "model_id": "",
       "version_major": 2,
       "version_minor": 0
      },
      "text/plain": [
       "FloatProgress(value=0.0, bar_style='info', description='Progress:', layout=Layout(height='25px', width='50%'),…"
      ]
     },
     "metadata": {},
     "output_type": "display_data"
    },
    {
     "name": "stdout",
     "output_type": "stream",
     "text": [
      "SparkSession available as 'spark'.\n"
     ]
    },
    {
     "data": {
      "application/vnd.jupyter.widget-view+json": {
       "model_id": "",
       "version_major": 2,
       "version_minor": 0
      },
      "text/plain": [
       "FloatProgress(value=0.0, bar_style='info', description='Progress:', layout=Layout(height='25px', width='50%'),…"
      ]
     },
     "metadata": {},
     "output_type": "display_data"
    },
    {
     "name": "stdout",
     "output_type": "stream",
     "text": [
      "Total Rows: 15069\n",
      "root\n",
      " |-- facility_id: integer (nullable = true)\n",
      " |-- year: integer (nullable = true)\n",
      " |-- facilityname: string (nullable = true)\n",
      " |-- state: string (nullable = true)\n",
      " |-- county: string (nullable = true)\n",
      " |-- participant: integer (nullable = true)\n",
      " |-- net_purchase: integer (nullable = true)\n",
      " |-- I_purchase: integer (nullable = true)\n",
      " |-- I_sell: integer (nullable = true)\n",
      " |-- latitude: double (nullable = true)\n",
      " |-- longitude: double (nullable = true)\n",
      " |-- NOx: double (nullable = true)\n",
      " |-- operating_time: double (nullable = true)\n",
      " |-- heat_input: double (nullable = true)\n",
      " |-- n_units: double (nullable = true)\n",
      " |-- Ammo_Injection: integer (nullable = true)\n",
      " |-- Steam_Injection: integer (nullable = true)\n",
      " |-- Water_Injection: integer (nullable = true)\n",
      " |-- Catal_Reduction: integer (nullable = true)\n",
      " |-- Non_Reduction: integer (nullable = true)\n",
      " |-- Comb_Mod: integer (nullable = true)\n",
      " |-- Overfire: integer (nullable = true)\n",
      " |-- Low_Burner: integer (nullable = true)\n",
      " |-- buyer: integer (nullable = true)\n",
      " |-- seller: integer (nullable = true)\n",
      " |-- trader: integer (nullable = true)\n",
      " |-- urban_ratio: double (nullable = true)\n",
      " |-- pop_den: double (nullable = true)\n",
      " |-- edu_1: double (nullable = true)\n",
      " |-- edu_2: double (nullable = true)\n",
      " |-- edu_3: double (nullable = true)\n",
      " |-- edu_4: double (nullable = true)\n",
      " |-- female_ratio: double (nullable = true)\n",
      " |-- white_ratio: double (nullable = true)\n",
      " |-- black_ratio: double (nullable = true)\n",
      " |-- native_ratio: double (nullable = true)\n",
      " |-- asian_ratio: double (nullable = true)\n",
      " |-- mixed_ratio: double (nullable = true)\n",
      " |-- age_1: double (nullable = true)\n",
      " |-- age_2: double (nullable = true)\n",
      " |-- age_3: double (nullable = true)\n",
      " |-- poverty_ratio: double (nullable = true)\n",
      " |-- median_income: integer (nullable = true)\n",
      " |-- fuel_type: string (nullable = true)\n",
      " |-- unit_type: string (nullable = true)"
     ]
    }
   ],
   "source": [
    "# Load main emissions data\n",
    "data = spark.read.csv(\"s3://noaadata/emissions.csv\", header=True, inferSchema=True)\n",
    "print('Total Rows: %d' % data.count())\n",
    "data.printSchema()"
   ]
  },
  {
   "cell_type": "markdown",
   "metadata": {},
   "source": [
    "Next I will explain the definitions of some key variables. The \"net_purchase\" variable indicates the net amount of allowances purchased by the facility in the given year. If this variable is negative, it means that the facilitiy sold the corresponding amount of allowances in that year. The \"I_purchase\" variable is an indicator of whether a facility purchased a positive amount in a given year. The \"buyer\" variable is an indicator of whether a facility has ever purchased a positive amount for any year during the post intervention period. Therefore this variable does not vary by time. Based on standard economic theory, I will only use pre-period characteristics for the prediction analysis, so the \"buyer\" variable will be the dependent variable. I will apply machine learning techniques to predict a facility's likelihood of being a buyer using various baseline characteristics."
   ]
  },
  {
   "cell_type": "code",
   "execution_count": 2,
   "metadata": {},
   "outputs": [
    {
     "data": {
      "application/vnd.jupyter.widget-view+json": {
       "model_id": "663b0af1515d415db62d01c013bb1ded",
       "version_major": 2,
       "version_minor": 0
      },
      "text/plain": [
       "VBox()"
      ]
     },
     "metadata": {},
     "output_type": "display_data"
    },
    {
     "data": {
      "application/vnd.jupyter.widget-view+json": {
       "model_id": "",
       "version_major": 2,
       "version_minor": 0
      },
      "text/plain": [
       "FloatProgress(value=0.0, bar_style='info', description='Progress:', layout=Layout(height='25px', width='50%'),…"
      ]
     },
     "metadata": {},
     "output_type": "display_data"
    },
    {
     "name": "stdout",
     "output_type": "stream",
     "text": [
      "+-----------+----+---------+----------+------------+----------+------+-----+------+------------+---------+-------------+\n",
      "|facility_id|year| latitude| longitude|net_purchase|I_purchase|I_sell|buyer|seller|female_ratio|fuel_type|median_income|\n",
      "+-----------+----+---------+----------+------------+----------+------+-----+------+------------+---------+-------------+\n",
      "|          1|2003|31.006901|  -88.0103|           0|         0|     0|    0|     1|  0.51966625|     Coal|        32850|\n",
      "|          1|2004|31.006901|  -88.0103|           0|         0|     0|    0|     1|  0.51966625|     Coal|        33191|\n",
      "|          1|2005|31.006901|  -88.0103|           0|         0|     0|    0|     1|  0.51966625|     Coal|        36143|\n",
      "|          1|2006|31.006901|  -88.0103|           0|         0|     0|    0|     1|  0.51966625|     Coal|        38188|\n",
      "|          1|2007|31.006901|  -88.0103|           0|         0|     0|    0|     1|  0.51966625|     Coal|        37575|\n",
      "|          1|2008|31.006901|  -88.0103|           0|         0|     0|    0|     1|  0.51966625|     Coal|        40951|\n",
      "|          1|2009|31.006901|  -88.0103|       -3426|         0|     1|    0|     1|  0.51966625|     Coal|        39828|\n",
      "|          1|2010|31.006901|  -88.0103|       -2300|         0|     1|    0|     1|  0.51966625|     Coal|        39753|\n",
      "|          1|2011|31.006901|  -88.0103|       -4000|         0|     1|    0|     1|  0.51966625|     Coal|        41867|\n",
      "|          1|2012|31.006901|  -88.0103|           0|         0|     0|    0|     1|  0.51966625|     Coal|        39546|\n",
      "|          1|2013|31.006901|  -88.0103|           0|         0|     0|    0|     1|  0.51966625|     Coal|        42278|\n",
      "|          1|2014|31.006901|  -88.0103|           0|         0|     0|    0|     1|  0.51966625|     Coal|        42943|\n",
      "|          2|2003|34.012798|-85.970802|           0|         0|     0|    1|     0|  0.51521593|     Coal|        31512|\n",
      "|          2|2004|34.012798|-85.970802|           0|         0|     0|    1|     0|  0.51521593|     Coal|        32727|\n",
      "|          2|2005|34.012798|-85.970802|           0|         0|     0|    1|     0|  0.51521593|     Coal|        32973|\n",
      "|          2|2006|34.012798|-85.970802|           0|         0|     0|    1|     0|  0.51521593|     Coal|        32448|\n",
      "|          2|2007|34.012798|-85.970802|           0|         0|     0|    1|     0|  0.51521593|     Coal|        35420|\n",
      "|          2|2008|34.012798|-85.970802|           0|         0|     0|    1|     0|  0.51521593|     Coal|        37264|\n",
      "|          2|2009|34.012798|-85.970802|         800|         1|     0|    1|     0|  0.51521593|     Coal|        38575|\n",
      "|          2|2010|34.012798|-85.970802|           0|         0|     0|    1|     0|  0.51521593|     Coal|        36088|\n",
      "+-----------+----+---------+----------+------------+----------+------+-----+------+------------+---------+-------------+\n",
      "only showing top 20 rows\n",
      "\n",
      "Total Rows: 15014"
     ]
    }
   ],
   "source": [
    "# Take a look at the data and delete missing values\n",
    "data[['facility_id','year','latitude','longitude','net_purchase','I_purchase','I_sell',\n",
    "      'buyer','seller','female_ratio','fuel_type','median_income']].show(20)\n",
    "data = data.dropna()\n",
    "print('Total Rows: %d' % data.count())"
   ]
  },
  {
   "cell_type": "markdown",
   "metadata": {},
   "source": [
    "Next, I load the grid-cell based weather conditions data, collected from PRISM (https://prism.oregonstate.edu/explorer/). Please note that variable \"Name\" is the same as \"facility_id\" in the emissions dataset I just loaded. Then I merge the weather data with the emissions data."
   ]
  },
  {
   "cell_type": "code",
   "execution_count": 3,
   "metadata": {},
   "outputs": [
    {
     "data": {
      "application/vnd.jupyter.widget-view+json": {
       "model_id": "3fc5567ea88e4dafacb3d3f34567bb3e",
       "version_major": 2,
       "version_minor": 0
      },
      "text/plain": [
       "VBox()"
      ]
     },
     "metadata": {},
     "output_type": "display_data"
    },
    {
     "data": {
      "application/vnd.jupyter.widget-view+json": {
       "model_id": "",
       "version_major": 2,
       "version_minor": 0
      },
      "text/plain": [
       "FloatProgress(value=0.0, bar_style='info', description='Progress:', layout=Layout(height='25px', width='50%'),…"
      ]
     },
     "metadata": {},
     "output_type": "display_data"
    },
    {
     "name": "stdout",
     "output_type": "stream",
     "text": [
      "Total Rows: 19276\n",
      "root\n",
      " |-- Name: integer (nullable = true)\n",
      " |-- Longitude: double (nullable = true)\n",
      " |-- Latitude: double (nullable = true)\n",
      " |-- Elevation: integer (nullable = true)\n",
      " |-- Date: integer (nullable = true)\n",
      " |-- prcp: double (nullable = true)\n",
      " |-- tmin: double (nullable = true)\n",
      " |-- tmean: double (nullable = true)\n",
      " |-- tmax: double (nullable = true)\n",
      " |-- dtmean: double (nullable = true)\n",
      " |-- vdpmin: double (nullable = true)\n",
      " |-- vdpmax: double (nullable = true)\n",
      "\n",
      "Total Rows: 17796\n",
      "+----+---------+--------+---------+----+-----+----+-----+----+------+------+------+\n",
      "|Name|Longitude|Latitude|Elevation|Date| prcp|tmin|tmean|tmax|dtmean|vdpmin|vdpmax|\n",
      "+----+---------+--------+---------+----+-----+----+-----+----+------+------+------+\n",
      "| 501|   -98.17| 44.3696|     1286|2003|18.83|34.0| 46.0|58.0|  34.2|   0.8| 13.22|\n",
      "| 501|   -98.17| 44.3696|     1286|2004|29.05|34.9| 46.4|57.9|  35.7|  0.64|  11.3|\n",
      "| 501|   -98.17| 44.3696|     1286|2005|23.39|35.7| 47.5|59.3|  35.4|  0.96| 13.11|\n",
      "| 501|   -98.17| 44.3696|     1286|2006|16.14|36.3| 48.2|60.1|  35.3|  0.96| 13.68|\n",
      "| 501|   -98.17| 44.3696|     1286|2007|31.36|35.1| 46.1|57.2|  35.1|  0.77| 11.44|\n",
      "| 501|   -98.17| 44.3696|     1286|2008|25.82|32.1| 43.7|55.2|  31.9|   0.8|  11.4|\n",
      "| 501|   -98.17| 44.3696|     1286|2009| 23.7|32.8| 43.7|54.5|  32.6|  0.72| 10.13|\n",
      "| 501|   -98.17| 44.3696|     1286|2010|29.71|35.4| 45.7|55.9|  34.5|  0.93| 11.17|\n",
      "| 501|   -98.17| 44.3696|     1286|2011|24.54|34.1| 44.9|55.7|  33.8|  0.72| 11.04|\n",
      "| 501|   -98.17| 44.3696|     1286|2012|19.43|36.8| 49.4|62.0|  35.2|  1.03| 15.52|\n",
      "| 501|   -98.17| 44.3696|     1286|2013| 26.2|32.6| 43.4|54.2|  33.1|  0.65| 10.59|\n",
      "| 501|   -98.17| 44.3696|     1286|2014|16.77|31.7| 43.4|55.0|  31.5|   0.8| 10.97|\n",
      "| 502| -90.1439| 35.0742|      213|2003|54.02|51.4| 60.7|70.1|  49.8|  1.21| 13.64|\n",
      "| 502| -90.1439| 35.0742|      213|2004|61.67|52.6| 61.9|71.2|  50.8|  1.41| 14.05|\n",
      "| 502| -90.1439| 35.0742|      213|2005|42.58|52.9| 62.8|72.8|  48.7|  1.96|  17.2|\n",
      "| 502| -90.1439| 35.0742|      213|2006|47.07|52.5| 62.8|73.0|  48.6|  2.14| 17.52|\n",
      "| 502| -90.1439| 35.0742|      213|2007|38.21|53.4| 63.6|73.9|  48.5|  2.27| 18.65|\n",
      "| 502| -90.1439| 35.0742|      213|2008|62.85|51.0| 60.9|70.9|  48.3|  1.69| 15.16|\n",
      "| 502| -90.1439| 35.0742|      213|2009|65.73|52.0| 61.1|70.1|  49.2|  1.46|  13.6|\n",
      "| 502| -90.1439| 35.0742|      213|2010|47.49|52.2| 62.2|72.2|  47.8|  2.09| 17.77|\n",
      "+----+---------+--------+---------+----+-----+----+-----+----+------+------+------+\n",
      "only showing top 20 rows"
     ]
    }
   ],
   "source": [
    "# Load weather data\n",
    "weather = spark.read.csv(\"s3://noaadata/weather*.csv\", header=True, inferSchema=True)\n",
    "print('Total Rows: %d' % weather.count())\n",
    "weather.printSchema()\n",
    "weather = weather.dropna()\n",
    "print('Total Rows: %d' % weather.count())\n",
    "weather.show(20)"
   ]
  },
  {
   "cell_type": "code",
   "execution_count": 4,
   "metadata": {},
   "outputs": [
    {
     "data": {
      "application/vnd.jupyter.widget-view+json": {
       "model_id": "7ad58243ef6f4b628f87376473e812d7",
       "version_major": 2,
       "version_minor": 0
      },
      "text/plain": [
       "VBox()"
      ]
     },
     "metadata": {},
     "output_type": "display_data"
    },
    {
     "data": {
      "application/vnd.jupyter.widget-view+json": {
       "model_id": "",
       "version_major": 2,
       "version_minor": 0
      },
      "text/plain": [
       "FloatProgress(value=0.0, bar_style='info', description='Progress:', layout=Layout(height='25px', width='50%'),…"
      ]
     },
     "metadata": {},
     "output_type": "display_data"
    },
    {
     "name": "stdout",
     "output_type": "stream",
     "text": [
      "Total Rows: 15014"
     ]
    }
   ],
   "source": [
    "# Merge\n",
    "from pyspark.sql.types import StructType, StructField, IntegerType, StringType\n",
    "sqlContext.registerDataFrameAsTable(weather, \"myTable\")\n",
    "weather = sqlContext.sql(\"SELECT Name AS facility_id, Date as year, Elevation as elevation, prcp as prcp, tmean as tmean, dtmean as dtmean from myTable\")\n",
    "data = data.join(weather, on=['facility_id','year'], how='left_outer')\n",
    "print('Total Rows: %d' % data.count())"
   ]
  },
  {
   "cell_type": "markdown",
   "metadata": {},
   "source": [
    "## 2. Data investigation and visualization\n",
    "Before running the machine learning algorithms, I will make some tables and plots in order to have a better sense of the data patterns."
   ]
  },
  {
   "cell_type": "code",
   "execution_count": 5,
   "metadata": {},
   "outputs": [
    {
     "data": {
      "application/vnd.jupyter.widget-view+json": {
       "model_id": "b53661bb3fca49818a8a4608a594e95b",
       "version_major": 2,
       "version_minor": 0
      },
      "text/plain": [
       "VBox()"
      ]
     },
     "metadata": {},
     "output_type": "display_data"
    },
    {
     "data": {
      "application/vnd.jupyter.widget-view+json": {
       "model_id": "",
       "version_major": 2,
       "version_minor": 0
      },
      "text/plain": [
       "FloatProgress(value=0.0, bar_style='info', description='Progress:', layout=Layout(height='25px', width='50%'),…"
      ]
     },
     "metadata": {},
     "output_type": "display_data"
    },
    {
     "name": "stdout",
     "output_type": "stream",
     "text": [
      "Collecting seaborn\n",
      "  Using cached https://files.pythonhosted.org/packages/c7/e6/54aaaafd0b87f51dfba92ba73da94151aa3bc179e5fe88fc5dfb3038e860/seaborn-0.10.1-py3-none-any.whl\n",
      "Collecting pandas>=0.22.0 (from seaborn)\n",
      "  Using cached https://files.pythonhosted.org/packages/a4/5f/1b6e0efab4bfb738478919d40b0e3e1a06e3d9996da45eb62a77e9a090d9/pandas-1.0.4-cp37-cp37m-manylinux1_x86_64.whl\n",
      "Requirement already satisfied: numpy>=1.13.3 in /usr/local/lib64/python3.7/site-packages (from seaborn)\n",
      "Collecting scipy>=1.0.1 (from seaborn)\n",
      "  Using cached https://files.pythonhosted.org/packages/dd/82/c1fe128f3526b128cfd185580ba40d01371c5d299fcf7f77968e22dfcc2e/scipy-1.4.1-cp37-cp37m-manylinux1_x86_64.whl\n",
      "Collecting matplotlib>=2.1.2 (from seaborn)\n",
      "  Using cached https://files.pythonhosted.org/packages/b2/c2/71fcf957710f3ba1f09088b35776a799ba7dd95f7c2b195ec800933b276b/matplotlib-3.2.1-cp37-cp37m-manylinux1_x86_64.whl\n",
      "Requirement already satisfied: pytz>=2017.2 in /usr/local/lib/python3.7/site-packages (from pandas>=0.22.0->seaborn)\n",
      "Collecting python-dateutil>=2.6.1 (from pandas>=0.22.0->seaborn)\n",
      "  Using cached https://files.pythonhosted.org/packages/d4/70/d60450c3dd48ef87586924207ae8907090de0b306af2bce5d134d78615cb/python_dateutil-2.8.1-py2.py3-none-any.whl\n",
      "Collecting pyparsing!=2.0.4,!=2.1.2,!=2.1.6,>=2.0.1 (from matplotlib>=2.1.2->seaborn)\n",
      "  Using cached https://files.pythonhosted.org/packages/8a/bb/488841f56197b13700afd5658fc279a2025a39e22449b7cf29864669b15d/pyparsing-2.4.7-py2.py3-none-any.whl\n",
      "Collecting cycler>=0.10 (from matplotlib>=2.1.2->seaborn)\n",
      "  Using cached https://files.pythonhosted.org/packages/f7/d2/e07d3ebb2bd7af696440ce7e754c59dd546ffe1bbe732c8ab68b9c834e61/cycler-0.10.0-py2.py3-none-any.whl\n",
      "Collecting kiwisolver>=1.0.1 (from matplotlib>=2.1.2->seaborn)\n",
      "  Using cached https://files.pythonhosted.org/packages/31/b9/6202dcae729998a0ade30e80ac00f616542ef445b088ec970d407dfd41c0/kiwisolver-1.2.0-cp37-cp37m-manylinux1_x86_64.whl\n",
      "Requirement already satisfied: six>=1.5 in /usr/local/lib/python3.7/site-packages (from python-dateutil>=2.6.1->pandas>=0.22.0->seaborn)\n",
      "Installing collected packages: python-dateutil, pandas, scipy, pyparsing, cycler, kiwisolver, matplotlib, seaborn\n",
      "Successfully installed cycler-0.10.0 kiwisolver-1.2.0 matplotlib-3.2.1 pandas-1.0.4 pyparsing-2.4.7 python-dateutil-2.8.1 scipy-1.4.1 seaborn-0.10.1\n",
      "\n",
      "Requirement already satisfied: pandas in /mnt/tmp/1591673119781-0/lib/python3.7/site-packages\n",
      "Requirement already satisfied: pytz>=2017.2 in /usr/local/lib/python3.7/site-packages (from pandas)\n",
      "Requirement already satisfied: numpy>=1.13.3 in /usr/local/lib64/python3.7/site-packages (from pandas)\n",
      "Requirement already satisfied: python-dateutil>=2.6.1 in /mnt/tmp/1591673119781-0/lib/python3.7/site-packages (from pandas)\n",
      "Requirement already satisfied: six>=1.5 in /usr/local/lib/python3.7/site-packages (from python-dateutil>=2.6.1->pandas)"
     ]
    }
   ],
   "source": [
    "sc.install_pypi_package(\"seaborn\")\n",
    "sc.install_pypi_package(\"pandas\")"
   ]
  },
  {
   "cell_type": "markdown",
   "metadata": {},
   "source": [
    "Firstly, I count the number of observations by different groups. The variable \"participant\" refers to whether a facility is participating in the CAIR program. As I am only interested in participants' trading behaviors, I will limit the analysis to participants. As explained before, I also limit the sample to pre-period only. We can see that the number of observations for buyers and non-buyers is in general balanced, so I will not perform any re-scaling of the sample."
   ]
  },
  {
   "cell_type": "code",
   "execution_count": 6,
   "metadata": {},
   "outputs": [
    {
     "data": {
      "application/vnd.jupyter.widget-view+json": {
       "model_id": "f7b38fc6d8e7463a9119e7e98e35d9b8",
       "version_major": 2,
       "version_minor": 0
      },
      "text/plain": [
       "VBox()"
      ]
     },
     "metadata": {},
     "output_type": "display_data"
    },
    {
     "data": {
      "application/vnd.jupyter.widget-view+json": {
       "model_id": "",
       "version_major": 2,
       "version_minor": 0
      },
      "text/plain": [
       "FloatProgress(value=0.0, bar_style='info', description='Progress:', layout=Layout(height='25px', width='50%'),…"
      ]
     },
     "metadata": {},
     "output_type": "display_data"
    },
    {
     "name": "stdout",
     "output_type": "stream",
     "text": [
      "+-----------+-----+\n",
      "|participant|count|\n",
      "+-----------+-----+\n",
      "|          1|11271|\n",
      "|          0| 3743|\n",
      "+-----------+-----+\n",
      "\n",
      "+-----+-----+\n",
      "|buyer|count|\n",
      "+-----+-----+\n",
      "|    1| 6141|\n",
      "|    0| 5130|\n",
      "+-----+-----+\n",
      "\n",
      "+-----+-----+\n",
      "|buyer|count|\n",
      "+-----+-----+\n",
      "|    1| 2776|\n",
      "|    0| 2361|\n",
      "+-----+-----+"
     ]
    }
   ],
   "source": [
    "# Count number of observations by participant status\n",
    "(data.groupBy('participant')\n",
    "     .count()\n",
    "     .show()\n",
    ")\n",
    "\n",
    "# Count number of observations by buyer status within participants\n",
    "(data.filter('participant==1').groupBy('buyer')\n",
    "     .count()\n",
    "     .show()\n",
    ")\n",
    "\n",
    "# Count number of observations by buyer status within participants, pre-period only\n",
    "(data.filter('participant==1').filter('year<=2008').groupBy('buyer')\n",
    "     .count()\n",
    "     .show()\n",
    ")"
   ]
  },
  {
   "cell_type": "markdown",
   "metadata": {},
   "source": [
    "I also show the following tables of fuel type and unit type, as they are important categorical variables."
   ]
  },
  {
   "cell_type": "code",
   "execution_count": 7,
   "metadata": {},
   "outputs": [
    {
     "data": {
      "application/vnd.jupyter.widget-view+json": {
       "model_id": "b494214cd1ee4396a263f2a82932aa79",
       "version_major": 2,
       "version_minor": 0
      },
      "text/plain": [
       "VBox()"
      ]
     },
     "metadata": {},
     "output_type": "display_data"
    },
    {
     "data": {
      "application/vnd.jupyter.widget-view+json": {
       "model_id": "",
       "version_major": 2,
       "version_minor": 0
      },
      "text/plain": [
       "FloatProgress(value=0.0, bar_style='info', description='Progress:', layout=Layout(height='25px', width='50%'),…"
      ]
     },
     "metadata": {},
     "output_type": "display_data"
    },
    {
     "name": "stdout",
     "output_type": "stream",
     "text": [
      "+---------+-----+-----+\n",
      "|fuel_type|buyer|count|\n",
      "+---------+-----+-----+\n",
      "|    Other|    1|   34|\n",
      "|      Gas|    0| 6056|\n",
      "|      Gas|    1| 3069|\n",
      "|      Oil|    1|  346|\n",
      "|     Coal|    0| 2362|\n",
      "|    Other|    0|   81|\n",
      "|      Oil|    0|  374|\n",
      "|     Coal|    1| 2692|\n",
      "+---------+-----+-----+\n",
      "\n",
      "+--------------+-----+-----+\n",
      "|     unit_type|buyer|count|\n",
      "+--------------+-----+-----+\n",
      "|       Turbine|    1| 1626|\n",
      "|        Boiler|    1| 3336|\n",
      "|Combined cycle|    1| 1179|\n",
      "|       Turbine|    0| 2207|\n",
      "|Combined cycle|    0| 2483|\n",
      "|        Boiler|    0| 4183|\n",
      "+--------------+-----+-----+"
     ]
    }
   ],
   "source": [
    "# Count number of observations by fuel type and unit type\n",
    "(data.groupBy('fuel_type','buyer')\n",
    "     .count()\n",
    "     .show()\n",
    ")\n",
    "(data.groupBy('unit_type','buyer')\n",
    "     .count()\n",
    "     .show()\n",
    ")"
   ]
  },
  {
   "cell_type": "markdown",
   "metadata": {},
   "source": [
    "Next, I plot the yearly average emissions level by participant status. We can see that before 2009, the participants group had a much higher emissions level than the non-participants (control) group. However, the emissions level dropped significantly in the participants group in 2009, while non-participants group's emissions trend was stable across all 12 years. This pattern indicates that the CAIR program effectively helped to reduce NOx emissions."
   ]
  },
  {
   "cell_type": "code",
   "execution_count": 8,
   "metadata": {},
   "outputs": [
    {
     "data": {
      "application/vnd.jupyter.widget-view+json": {
       "model_id": "80e2ff50bf5c419fb355d4c8f2966237",
       "version_major": 2,
       "version_minor": 0
      },
      "text/plain": [
       "VBox()"
      ]
     },
     "metadata": {},
     "output_type": "display_data"
    },
    {
     "data": {
      "application/vnd.jupyter.widget-view+json": {
       "model_id": "",
       "version_major": 2,
       "version_minor": 0
      },
      "text/plain": [
       "FloatProgress(value=0.0, bar_style='info', description='Progress:', layout=Layout(height='25px', width='50%'),…"
      ]
     },
     "metadata": {},
     "output_type": "display_data"
    },
    {
     "data": {
      "image/png": "[encoded data removed]",
      "text/plain": [
       "<IPython.core.display.Image object>"
      ]
     },
     "metadata": {},
     "output_type": "display_data"
    }
   ],
   "source": [
    "import seaborn as sns\n",
    "import matplotlib.pyplot as plt\n",
    "\n",
    "# Average emissions, by participant and year\n",
    "emission = (data.groupBy('year','participant')\n",
    "                  .mean('NOx')\n",
    "                  .sort('year', ascending=True)\n",
    "              )\n",
    "df = emission.toPandas()\n",
    "\n",
    "# Graph\n",
    "plt.close()\n",
    "sns.lineplot(x = \"year\", y = \"avg(NOx)\", hue='participant', data = df)\n",
    "%matplot plt"
   ]
  },
  {
   "cell_type": "markdown",
   "metadata": {},
   "source": [
    "I also plot the emissions level by buyers and non-buyers within participants group. We can see that while their baseline emissions level are quite different, both groups followed the same trend in emissions reduction. This pattern implies that trading activity probably has little impact on emissions reduction level."
   ]
  },
  {
   "cell_type": "code",
   "execution_count": 9,
   "metadata": {},
   "outputs": [
    {
     "data": {
      "application/vnd.jupyter.widget-view+json": {
       "model_id": "276fa048f23c4ef0a39b6a4471ee70e6",
       "version_major": 2,
       "version_minor": 0
      },
      "text/plain": [
       "VBox()"
      ]
     },
     "metadata": {},
     "output_type": "display_data"
    },
    {
     "data": {
      "application/vnd.jupyter.widget-view+json": {
       "model_id": "",
       "version_major": 2,
       "version_minor": 0
      },
      "text/plain": [
       "FloatProgress(value=0.0, bar_style='info', description='Progress:', layout=Layout(height='25px', width='50%'),…"
      ]
     },
     "metadata": {},
     "output_type": "display_data"
    },
    {
     "data": {
      "image/png": "[encoded data removed]",
      "text/plain": [
       "<IPython.core.display.Image object>"
      ]
     },
     "metadata": {},
     "output_type": "display_data"
    }
   ],
   "source": [
    "# Average emissions, by participant and year\n",
    "emission = (data.filter('participant==1').groupBy('year','buyer')\n",
    "                  .mean('NOx')\n",
    "                  .sort('year', ascending=True)\n",
    "              )\n",
    "df = emission.toPandas()\n",
    "\n",
    "# Graph\n",
    "plt.close()\n",
    "sns.lineplot(x = \"year\", y = \"avg(NOx)\", hue='buyer', data = df)\n",
    "%matplot plt"
   ]
  },
  {
   "cell_type": "markdown",
   "metadata": {},
   "source": [
    "## 3. Training machine learning models\n",
    "In this section, since the dependent variable is binary, I will use some different classifying methods, including logistic regression, decision tree, gradient-boosted tree, and random forest. I build a pipeline for each of the four methods."
   ]
  },
  {
   "cell_type": "code",
   "execution_count": 10,
   "metadata": {},
   "outputs": [
    {
     "data": {
      "application/vnd.jupyter.widget-view+json": {
       "model_id": "d923337ea6264b4ab450427f938895a3",
       "version_major": 2,
       "version_minor": 0
      },
      "text/plain": [
       "VBox()"
      ]
     },
     "metadata": {},
     "output_type": "display_data"
    },
    {
     "data": {
      "application/vnd.jupyter.widget-view+json": {
       "model_id": "",
       "version_major": 2,
       "version_minor": 0
      },
      "text/plain": [
       "FloatProgress(value=0.0, bar_style='info', description='Progress:', layout=Layout(height='25px', width='50%'),…"
      ]
     },
     "metadata": {},
     "output_type": "display_data"
    }
   ],
   "source": [
    "from pyspark.ml.feature import StringIndexer,OneHotEncoderEstimator,VectorAssembler\n",
    "from pyspark.ml.classification import LogisticRegression,DecisionTreeClassifier,GBTClassifier,RandomForestClassifier\n",
    "from pyspark.ml import Pipeline\n",
    "\n",
    "# Create dummies for categorical variable\n",
    "indexer = StringIndexer(inputCol='fuel_type', outputCol='fuel_idx')\n",
    "indexer2 = StringIndexer(inputCol='unit_type', outputCol='unit_idx')\n",
    "indexer3 = StringIndexer(inputCol='state', outputCol='state_idx')\n",
    "onehot = OneHotEncoderEstimator(inputCols=['fuel_idx','unit_idx','state_idx'], outputCols=['fuel_dummy','unit_dummy','state_dummy'])\n",
    "\n",
    "# Assemble features\n",
    "features = ['NOx','operating_time','heat_input','n_units','Ammo_Injection','Steam_Injection','Water_Injection',\n",
    "           'Catal_Reduction','Non_Reduction','Comb_Mod','Overfire','Low_Burner','urban_ratio','pop_den',\n",
    "           'edu_2','edu_3','edu_4','age_2','age_3','poverty_ratio','white_ratio','black_ratio','median_income',\n",
    "           'fuel_dummy','unit_dummy','state_dummy','elevation','prcp','tmean','dtmean']\n",
    "assemble = VectorAssembler(\n",
    "inputCols= features,\n",
    "outputCol='features')\n",
    "\n",
    "# Specify methods\n",
    "logit = LogisticRegression(featuresCol='features', labelCol='buyer')\n",
    "tree = DecisionTreeClassifier(featuresCol='features',labelCol='buyer')\n",
    "bt = GBTClassifier(featuresCol='features',labelCol='buyer')\n",
    "rf = RandomForestClassifier(featuresCol='features',labelCol='buyer')\n",
    "\n",
    "# Build pipelines\n",
    "pipeline1 = Pipeline(stages=[indexer, indexer2, indexer3, onehot, assemble, logit])\n",
    "pipeline2 = Pipeline(stages=[indexer, indexer2, indexer3, onehot, assemble, tree])\n",
    "pipeline3 = Pipeline(stages=[indexer, indexer2, indexer3, onehot, assemble, bt])\n",
    "pipeline4 = Pipeline(stages=[indexer, indexer2, indexer3, onehot, assemble, rf])\n",
    "\n",
    "# Limit analysis within CAIR participants for the pre-period\n",
    "sample = data.filter('participant==1').filter('year<2009')\n",
    "\n",
    "# Split data\n",
    "train, test = sample.filter('participant==1').randomSplit([0.7, 0.3])"
   ]
  },
  {
   "cell_type": "markdown",
   "metadata": {},
   "source": [
    "Then I build a cross validator for logistic regression and evaluate the model on test data. The result indicates that the AUC is just above 0.8, meaning that the performance is good."
   ]
  },
  {
   "cell_type": "code",
   "execution_count": 11,
   "metadata": {},
   "outputs": [
    {
     "data": {
      "application/vnd.jupyter.widget-view+json": {
       "model_id": "4a9cfe64a9af46688050f37345149737",
       "version_major": 2,
       "version_minor": 0
      },
      "text/plain": [
       "VBox()"
      ]
     },
     "metadata": {},
     "output_type": "display_data"
    },
    {
     "data": {
      "application/vnd.jupyter.widget-view+json": {
       "model_id": "",
       "version_major": 2,
       "version_minor": 0
      },
      "text/plain": [
       "FloatProgress(value=0.0, bar_style='info', description='Progress:', layout=Layout(height='25px', width='50%'),…"
      ]
     },
     "metadata": {},
     "output_type": "display_data"
    }
   ],
   "source": [
    "from pyspark.ml.tuning import CrossValidator, ParamGridBuilder\n",
    "from pyspark.ml.evaluation import BinaryClassificationEvaluator\n",
    "import numpy as np\n",
    "\n",
    "# Create parameter grid\n",
    "params = ParamGridBuilder().addGrid(logit.regParam, [0.001, 0.005, 0.01, 0.05, 0.1, 1]) \\\n",
    "                           .addGrid(logit.elasticNetParam, [0,1]).build()\n",
    "\n",
    "# Create evaluator\n",
    "evaluator = BinaryClassificationEvaluator(labelCol='buyer')\n",
    "\n",
    "# Create cross-validator\n",
    "cv1 = CrossValidator(estimator=pipeline1, estimatorParamMaps=params, evaluator=evaluator, numFolds=5)"
   ]
  },
  {
   "cell_type": "code",
   "execution_count": 12,
   "metadata": {},
   "outputs": [
    {
     "data": {
      "application/vnd.jupyter.widget-view+json": {
       "model_id": "c37b21a4a63f4c2d82cee4e3d8e2753f",
       "version_major": 2,
       "version_minor": 0
      },
      "text/plain": [
       "VBox()"
      ]
     },
     "metadata": {},
     "output_type": "display_data"
    },
    {
     "data": {
      "application/vnd.jupyter.widget-view+json": {
       "model_id": "",
       "version_major": 2,
       "version_minor": 0
      },
      "text/plain": [
       "FloatProgress(value=0.0, bar_style='info', description='Progress:', layout=Layout(height='25px', width='50%'),…"
      ]
     },
     "metadata": {},
     "output_type": "display_data"
    },
    {
     "name": "stderr",
     "output_type": "stream",
     "text": [
      "Exception in thread cell_monitor-12:\n",
      "Traceback (most recent call last):\n",
      "  File \"/emr/notebook-env/lib/python3.7/threading.py\", line 926, in _bootstrap_inner\n",
      "    self.run()\n",
      "  File \"/emr/notebook-env/lib/python3.7/threading.py\", line 870, in run\n",
      "    self._target(*self._args, **self._kwargs)\n",
      "  File \"/emr/notebook-env/lib/python3.7/site-packages/awseditorssparkmonitoringwidget-1.0-py3.7.egg/awseditorssparkmonitoringwidget/cellmonitor.py\", line 178, in cell_monitor\n",
      "    job_binned_stages[job_id][stage_id] = all_stages[stage_id]\n",
      "KeyError: 1182\n",
      "\n"
     ]
    },
    {
     "name": "stdout",
     "output_type": "stream",
     "text": [
      "0.7871625885157398"
     ]
    }
   ],
   "source": [
    "# Evaluate AUC on test data\n",
    "cv = cv1.setSeed(2).fit(train)\n",
    "best_model = cv.bestModel\n",
    "predictions = best_model.transform(test)\n",
    "evaluator.evaluate(predictions)"
   ]
  },
  {
   "cell_type": "code",
   "execution_count": 13,
   "metadata": {},
   "outputs": [
    {
     "data": {
      "application/vnd.jupyter.widget-view+json": {
       "model_id": "21cbf585f4de4dd2a8c3d76ac63f9289",
       "version_major": 2,
       "version_minor": 0
      },
      "text/plain": [
       "VBox()"
      ]
     },
     "metadata": {},
     "output_type": "display_data"
    },
    {
     "data": {
      "application/vnd.jupyter.widget-view+json": {
       "model_id": "",
       "version_major": 2,
       "version_minor": 0
      },
      "text/plain": [
       "FloatProgress(value=0.0, bar_style='info', description='Progress:', layout=Layout(height='25px', width='50%'),…"
      ]
     },
     "metadata": {},
     "output_type": "display_data"
    },
    {
     "name": "stdout",
     "output_type": "stream",
     "text": [
      "['NOx', 'operating_time', 'heat_input', 'n_units', 'Ammo_Injection', 'Steam_Injection', 'Water_Injection', 'Catal_Reduction', 'Non_Reduction', 'Comb_Mod', 'Overfire', 'Low_Burner', 'urban_ratio', 'pop_den', 'edu_2', 'edu_3', 'edu_4', 'age_2', 'age_3', 'poverty_ratio', 'white_ratio', 'black_ratio', 'median_income', 'fuel_dummy', 'unit_dummy', 'state_dummy', 'elevation', 'prcp', 'tmean', 'dtmean']\n",
      "DenseMatrix([[ 6.05295512e-05,  9.54734402e-04, -1.06612932e-04,\n",
      "               6.80520743e-02, -1.43764102e+00, -2.89384827e-01,\n",
      "               3.51680943e-02, -6.28706726e-01,  1.51792588e-01,\n",
      "              -2.44082265e-01,  1.51926357e-01,  3.51680943e-02,\n",
      "              -2.95236388e-01, -1.17493198e-04,  6.99231697e+00,\n",
      "               1.85262831e+00,  5.85856845e+00, -6.12992534e-02,\n",
      "              -6.15797424e-02, -1.61570692e+00,  3.49296055e-01,\n",
      "               1.23462933e+00, -1.45193421e-05, -4.41099362e-01,\n",
      "               3.86495985e-01, -3.23163935e-01, -7.61627930e-01,\n",
      "              -1.06205080e-01,  3.92018321e-01, -1.62034318e-01,\n",
      "              -6.24566227e-01,  1.53871990e+00,  1.00232348e+00,\n",
      "               7.94541832e-01, -4.95100820e-01,  2.31400381e-01,\n",
      "              -4.06863728e-01, -4.88357389e-01,  1.15099771e-01,\n",
      "               2.38543474e+00,  6.83258749e-01, -6.23886741e-01,\n",
      "               2.41956359e-01, -3.22677752e-01,  1.42199340e-01,\n",
      "              -5.39981257e+00,  8.15686226e-01, -4.92313412e+00,\n",
      "              -4.30735793e-02, -4.39539857e-01, -5.27248308e+00,\n",
      "              -2.12947120e-01, -9.38865301e-02, -5.06017607e+00,\n",
      "              -4.97725294e-01,  1.08094204e+00,  4.31880841e-05,\n",
      "               7.49851072e-03,  5.81323603e-02, -5.96178256e-02]])"
     ]
    }
   ],
   "source": [
    "# List coefficients\n",
    "print(features)\n",
    "print(str(best_model.stages[5].coefficientMatrix))"
   ]
  },
  {
   "cell_type": "markdown",
   "metadata": {},
   "source": [
    "Next I build cross validators for tree-based methods and evaluate the models on test data. Among the three methods, gradient-boosted trees achieves the highest accuracy while decision tree has the lowest accuracy."
   ]
  },
  {
   "cell_type": "code",
   "execution_count": 14,
   "metadata": {},
   "outputs": [
    {
     "data": {
      "application/vnd.jupyter.widget-view+json": {
       "model_id": "c1aec752ee7b4887aafb840e09df01c5",
       "version_major": 2,
       "version_minor": 0
      },
      "text/plain": [
       "VBox()"
      ]
     },
     "metadata": {},
     "output_type": "display_data"
    },
    {
     "data": {
      "application/vnd.jupyter.widget-view+json": {
       "model_id": "",
       "version_major": 2,
       "version_minor": 0
      },
      "text/plain": [
       "FloatProgress(value=0.0, bar_style='info', description='Progress:', layout=Layout(height='25px', width='50%'),…"
      ]
     },
     "metadata": {},
     "output_type": "display_data"
    }
   ],
   "source": [
    "from pyspark.ml.evaluation import MulticlassClassificationEvaluator\n",
    "\n",
    "# Create parameter grid\n",
    "params = ParamGridBuilder().build()\n",
    "\n",
    "# Create evaluator\n",
    "evaluator = MulticlassClassificationEvaluator(\n",
    "    labelCol=\"buyer\", predictionCol=\"prediction\", metricName=\"accuracy\")\n",
    "\n",
    "# Create cross-validator\n",
    "cv2 = CrossValidator(estimator=pipeline2, estimatorParamMaps=params, evaluator=evaluator, numFolds=5)\n",
    "cv3 = CrossValidator(estimator=pipeline3, estimatorParamMaps=params, evaluator=evaluator, numFolds=5)\n",
    "cv4 = CrossValidator(estimator=pipeline4, estimatorParamMaps=params, evaluator=evaluator, numFolds=5)"
   ]
  },
  {
   "cell_type": "code",
   "execution_count": 15,
   "metadata": {},
   "outputs": [
    {
     "data": {
      "application/vnd.jupyter.widget-view+json": {
       "model_id": "dd90076c1c134afcb1d86e6371fdb16f",
       "version_major": 2,
       "version_minor": 0
      },
      "text/plain": [
       "VBox()"
      ]
     },
     "metadata": {},
     "output_type": "display_data"
    },
    {
     "data": {
      "application/vnd.jupyter.widget-view+json": {
       "model_id": "",
       "version_major": 2,
       "version_minor": 0
      },
      "text/plain": [
       "FloatProgress(value=0.0, bar_style='info', description='Progress:', layout=Layout(height='25px', width='50%'),…"
      ]
     },
     "metadata": {},
     "output_type": "display_data"
    },
    {
     "name": "stdout",
     "output_type": "stream",
     "text": [
      "Decision Tree Accuracy = 0.667544 \n",
      "DecisionTreeClassificationModel (uid=DecisionTreeClassifier_3d085a3b4c65) of depth 5 with 33 nodes\n",
      "Gradient-Boosted Tree Accuracy = 0.82291 \n",
      "GBTClassificationModel (uid=GBTClassifier_7fd2f1b1b9d1) with 20 trees\n",
      "Random Forest Accuracy = 0.721527 \n",
      "RandomForestClassificationModel (uid=RandomForestClassifier_1a547e9cd972) with 20 trees"
     ]
    },
    {
     "name": "stderr",
     "output_type": "stream",
     "text": [
      "Exception in thread cell_monitor-15:\n",
      "Traceback (most recent call last):\n",
      "  File \"/emr/notebook-env/lib/python3.7/threading.py\", line 926, in _bootstrap_inner\n",
      "    self.run()\n",
      "  File \"/emr/notebook-env/lib/python3.7/threading.py\", line 870, in run\n",
      "    self._target(*self._args, **self._kwargs)\n",
      "  File \"/emr/notebook-env/lib/python3.7/site-packages/awseditorssparkmonitoringwidget-1.0-py3.7.egg/awseditorssparkmonitoringwidget/cellmonitor.py\", line 178, in cell_monitor\n",
      "    job_binned_stages[job_id][stage_id] = all_stages[stage_id]\n",
      "KeyError: 9880\n",
      "\n"
     ]
    }
   ],
   "source": [
    "# Evaluate accuracy on test data\n",
    "cv = cv2.setSeed(2).fit(train)\n",
    "best_model = cv.bestModel\n",
    "predictions = best_model.transform(test)\n",
    "accuracy = evaluator.evaluate(predictions)\n",
    "print(\"Decision Tree Accuracy = %g \" %  accuracy)\n",
    "print(best_model.stages[5])\n",
    "\n",
    "# Evaluate accuracy on test data\n",
    "cv = cv3.setSeed(2).fit(train)\n",
    "best_model = cv.bestModel\n",
    "predictions = best_model.transform(test)\n",
    "accuracy = evaluator.evaluate(predictions)\n",
    "print(\"Gradient-Boosted Tree Accuracy = %g \" %  accuracy)\n",
    "print(best_model.stages[5])\n",
    "\n",
    "# Evaluate accuracy on test data\n",
    "cv = cv4.setSeed(2).fit(train)\n",
    "best_model = cv.bestModel\n",
    "predictions = best_model.transform(test)\n",
    "accuracy = evaluator.evaluate(predictions)\n",
    "print(\"Random Forest Accuracy = %g \" %  accuracy)\n",
    "print(best_model.stages[5])"
   ]
  }
 ],
 "metadata": {
  "kernelspec": {
   "display_name": "PySpark",
   "language": "",
   "name": "pysparkkernel"
  },
  "language_info": {
   "codemirror_mode": {
    "name": "python",
    "version": 3
   },
   "mimetype": "text/x-python",
   "name": "pyspark",
   "pygments_lexer": "python3"
  }
 },
 "nbformat": 4,
 "nbformat_minor": 4
}
